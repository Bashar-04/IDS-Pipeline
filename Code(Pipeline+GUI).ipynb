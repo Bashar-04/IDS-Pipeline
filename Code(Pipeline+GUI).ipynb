{
 "cells": [
  {
   "metadata": {},
   "cell_type": "markdown",
   "source": "",
   "id": "996cb595226d4b23"
  },
  {
   "metadata": {
    "ExecuteTime": {
     "end_time": "2025-05-30T15:11:54.824146Z",
     "start_time": "2025-05-30T15:11:54.818800Z"
    }
   },
   "cell_type": "code",
   "source": [
    "import gradio as gr\n",
    "import pandas as pd\n",
    "import numpy as np\n",
    "import joblib\n",
    "from sklearn.preprocessing import LabelEncoder\n",
    "import xgboost as xgb"
   ],
   "id": "e3891bfe4a2530be",
   "outputs": [],
   "execution_count": 29
  },
  {
   "metadata": {},
   "cell_type": "markdown",
   "source": "",
   "id": "7b1363091809e201"
  },
  {
   "metadata": {
    "ExecuteTime": {
     "end_time": "2025-05-30T15:11:56.834080Z",
     "start_time": "2025-05-30T15:11:56.747165Z"
    }
   },
   "cell_type": "code",
   "source": [
    "model1 = joblib.load(r\"models/traffic_type_model.joblib\")\n",
    "model2 = joblib.load(r\"models/is_Suspicious_model.joblib\")\n",
    "model3 = joblib.load(r\"models/attack_type_model.joblib\")"
   ],
   "id": "12dfef3d2d244794",
   "outputs": [],
   "execution_count": 30
  },
  {
   "metadata": {},
   "cell_type": "markdown",
   "source": "",
   "id": "5caba2fcfd5f8e4"
  },
  {
   "metadata": {
    "ExecuteTime": {
     "end_time": "2025-05-30T15:11:58.680434Z",
     "start_time": "2025-05-30T15:11:58.675094Z"
    }
   },
   "cell_type": "code",
   "source": [
    "le1_classes = [\n",
    "    'DNS (UDP)', 'FTP (TCP)', 'HTTP/HTTPS (TCP)', 'NTP (UDP)', 'NetBIOS (UDP/TCP)',\n",
    "    'Other', 'RDP (TCP)', 'SMB (TCP)', 'SNMP (UDP)', 'SSH (TCP)'\n",
    "]\n",
    "\n",
    "le2_classes = [\n",
    "    'Normal Traffic', 'Attack Traffic'\n",
    "]\n",
    "\n",
    "le3_classes = [\n",
    "    'BENIGN', 'Bot', 'DDoS', 'DoS GoldenEye', 'DoS Hulk', 'DoS Slowhttptest',\n",
    "    'DoS Slowloris', 'FTP-Patator', 'Heartbleed', 'Infiltration', 'PortScan',\n",
    "    'SSH-Patator', 'Web Attack Brute Force', 'Web Attack Sql Injection', 'Web Attack XSS'\n",
    "]\n"
   ],
   "id": "77e0750c77a4469c",
   "outputs": [],
   "execution_count": 31
  },
  {
   "metadata": {},
   "cell_type": "markdown",
   "source": "",
   "id": "d6acf8f41b41863f"
  },
  {
   "metadata": {
    "ExecuteTime": {
     "end_time": "2025-05-30T15:12:00.983504Z",
     "start_time": "2025-05-30T15:12:00.978049Z"
    }
   },
   "cell_type": "code",
   "source": [
    "top_features1 = ['Fwd IAT Max', 'Fwd IAT Mean', 'Destination Port', 'Packet Length Mean', 'FIN Flag Count', 'Min Packet Length', 'Fwd Packet Length Min', 'Average Packet Size', 'Init_Win_bytes_backward', 'Fwd Packet Length Mean']\n",
    "\n",
    "top_features2 = ['Bwd Packet Length Std', 'Average Packet Size', 'Bwd Header Length', 'Flow Bytes/s', 'Idle Mean', 'Max Packet Length', 'Fwd Packet Length Std', 'Destination Port', 'FIN Flag Count', 'Active Std']\n",
    "\n",
    "top_features3 = ['Bwd Packet Length Std', 'Idle Mean', 'act_data_pkt_fwd', 'Bwd Packet Length Mean', 'Flow Bytes/s', 'Total Length of Fwd Packets', 'Fwd IAT Std', 'Bwd Header Length', 'Total Backward Packets', 'Average Packet Size']\n"
   ],
   "id": "11eae3b932861212",
   "outputs": [],
   "execution_count": 32
  },
  {
   "metadata": {},
   "cell_type": "markdown",
   "source": "",
   "id": "2e487ca29f7d6989"
  },
  {
   "metadata": {
    "ExecuteTime": {
     "end_time": "2025-05-30T15:15:42.120774Z",
     "start_time": "2025-05-30T15:15:42.113078Z"
    }
   },
   "cell_type": "code",
   "source": [
    "def preprocess_input(df, top_features):\n",
    "\n",
    "    df.replace([np.inf, -np.inf], np.nan, inplace=True)\n",
    "    for col in df.select_dtypes(include=[np.number]).columns:\n",
    "        median_val = df[col].median()\n",
    "        df[col].fillna(median_val, inplace=True)\n",
    "\n",
    "    for col in df.select_dtypes(include=['object', 'category']).columns:\n",
    "        df[col] = df[col].astype(str)\n",
    "        le = LabelEncoder()\n",
    "        df[col] = le.fit_transform(df[col])\n",
    "\n",
    "    available_features = [col for col in top_features if col in df.columns]\n",
    "    df = df[available_features]\n",
    "    return df\n"
   ],
   "id": "f0ded84fa2481d95",
   "outputs": [],
   "execution_count": 38
  },
  {
   "metadata": {},
   "cell_type": "markdown",
   "source": "",
   "id": "1a460b39c863e332"
  },
  {
   "metadata": {
    "ExecuteTime": {
     "end_time": "2025-05-30T15:15:45.542981Z",
     "start_time": "2025-05-30T15:15:45.536404Z"
    }
   },
   "cell_type": "code",
   "source": [
    "\n",
    "def pipeline_predict(uploaded_file):\n",
    "    df = pd.read_csv(uploaded_file.name)\n",
    "    df.columns = df.columns.str.strip()\n",
    "\n",
    "    X1 = preprocess_input(df.copy(), top_features1)\n",
    "    d1 = xgb.DMatrix(X1)\n",
    "    pred1_prob = model1.predict(d1)\n",
    "    pred1 = np.argmax(pred1_prob, axis=1)\n",
    "    pred1_labels = [le1_classes[i] for i in pred1]\n",
    "    df['Predicted_Traffic_Type'] = pred1_labels\n",
    "\n",
    "    X2 = preprocess_input(df.copy(), top_features2)\n",
    "    d2 = xgb.DMatrix(X2)\n",
    "    pred2_prob = model2.predict(d2)\n",
    "    pred2 = (pred2_prob > 0.5).astype(int)\n",
    "    pred2_labels = [le2_classes[i] for i in pred2]\n",
    "    df['Predicted_Suspicious'] = pred2_labels\n",
    "\n",
    "    X3_all = preprocess_input(df.copy(), top_features3)\n",
    "    d3_all = xgb.DMatrix(X3_all)\n",
    "    pred3_prob_all = model3.predict(d3_all)\n",
    "    pred3_all = np.argmax(pred3_prob_all, axis=1)\n",
    "\n",
    "    attack_preds = []\n",
    "    for i, is_suspicious in enumerate(pred2):\n",
    "        if is_suspicious == 1:\n",
    "            attack_preds.append(le3_classes[pred3_all[i]])\n",
    "        else:\n",
    "            attack_preds.append('None')\n",
    "\n",
    "    df['Predicted_Attack_Type'] = attack_preds\n",
    "\n",
    "    display_cols = ['Predicted_Traffic_Type', 'Predicted_Suspicious', 'Predicted_Attack_Type']\n",
    "    result_df = df[display_cols]\n",
    "\n",
    "    return result_df"
   ],
   "id": "52d48f18df4a94fa",
   "outputs": [],
   "execution_count": 39
  },
  {
   "metadata": {},
   "cell_type": "markdown",
   "source": "",
   "id": "d0fe8522c85b590b"
  },
  {
   "metadata": {
    "ExecuteTime": {
     "end_time": "2025-05-30T15:12:12.258896Z",
     "start_time": "2025-05-30T15:12:11.471901Z"
    }
   },
   "cell_type": "code",
   "source": [
    "gr_interface = gr.Interface(\n",
    "    fn=pipeline_predict,\n",
    "    inputs=gr.File(file_types=['.csv']),\n",
    "    outputs=gr.Dataframe(type=\"pandas\"),\n",
    "    title=\"Network Traffic Intrusion Detection\",\n",
    "    description=\"Upload network traffic CSV file, get traffic type, suspicious prediction, and attack type.\"\n",
    ")\n",
    "\n",
    "if __name__ == \"__main__\":\n",
    "    gr_interface.launch()"
   ],
   "id": "20477fd0919ee39c",
   "outputs": [
    {
     "name": "stdout",
     "output_type": "stream",
     "text": [
      "* Running on local URL:  http://127.0.0.1:7862\n",
      "* To create a public link, set `share=True` in `launch()`.\n"
     ]
    },
    {
     "data": {
      "text/plain": [
       "<IPython.core.display.HTML object>"
      ],
      "text/html": [
       "<div><iframe src=\"http://127.0.0.1:7862/\" width=\"100%\" height=\"500\" allow=\"autoplay; camera; microphone; clipboard-read; clipboard-write;\" frameborder=\"0\" allowfullscreen></iframe></div>"
      ]
     },
     "metadata": {},
     "output_type": "display_data"
    }
   ],
   "execution_count": 35
  }
 ],
 "metadata": {
  "kernelspec": {
   "display_name": "Python 3",
   "language": "python",
   "name": "python3"
  },
  "language_info": {
   "codemirror_mode": {
    "name": "ipython",
    "version": 2
   },
   "file_extension": ".py",
   "mimetype": "text/x-python",
   "name": "python",
   "nbconvert_exporter": "python",
   "pygments_lexer": "ipython2",
   "version": "2.7.6"
  }
 },
 "nbformat": 4,
 "nbformat_minor": 5
}
